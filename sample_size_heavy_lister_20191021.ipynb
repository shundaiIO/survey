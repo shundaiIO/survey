{
 "cells": [
  {
   "cell_type": "code",
   "execution_count": 40,
   "metadata": {},
   "outputs": [],
   "source": [
    "from sympy.solvers import solve\n",
    "from sympy import Symbol,sqrt"
   ]
  },
  {
   "cell_type": "code",
   "execution_count": 104,
   "metadata": {},
   "outputs": [
    {
     "name": "stdout",
     "output_type": "stream",
     "text": [
      "[0.0, 203.751416266750]\n"
     ]
    }
   ],
   "source": [
    "p = 0.543 ##CVR\n",
    "diff = 0.178##改善率\n",
    "\n",
    "n_s, p_s, diff_s = sp.symbols(\"n_s p_s diff_s\")\n",
    "a_mean = n_s * p_s\n",
    "a_var = (a_mean * (1 - p_s))\n",
    "a_sd = sp.sqrt(a_var)\n",
    "b_p = p + p_s * diff\n",
    "b_mean = n_s * b_p\n",
    "b_var = (b_mean*(1 - b_p))\n",
    "b_sd = sp.sqrt(b_var)\n",
    "a_right = (a_mean + 1.96 * a_sd)\n",
    "b_left = (b_mean - 0.84 * b_sd)\n",
    "param = [(p_s, p), (diff_s, diff)]\n",
    "print(sp.solve((sp.Eq(a_right.subs(param), b_left.subs(param))), n_s)[:])"
   ]
  },
  {
   "cell_type": "code",
   "execution_count": null,
   "metadata": {},
   "outputs": [],
   "source": []
  }
 ],
 "metadata": {
  "kernelspec": {
   "display_name": "Python 3",
   "language": "python",
   "name": "python3"
  },
  "language_info": {
   "codemirror_mode": {
    "name": "ipython",
    "version": 3
   },
   "file_extension": ".py",
   "mimetype": "text/x-python",
   "name": "python",
   "nbconvert_exporter": "python",
   "pygments_lexer": "ipython3",
   "version": "3.7.3"
  }
 },
 "nbformat": 4,
 "nbformat_minor": 2
}
